{
  "nbformat": 4,
  "nbformat_minor": 0,
  "metadata": {
    "colab": {
      "name": "raspagem e manipulação de dados baja.ipynb",
      "provenance": []
    },
    "kernelspec": {
      "name": "python3",
      "display_name": "Python 3"
    },
    "language_info": {
      "name": "python"
    }
  },
  "cells": [
    {
      "cell_type": "markdown",
      "metadata": {
        "id": "SJQMsv5LaGzL"
      },
      "source": [
        "RASPAGEM DE DADOS E CRIAÇÃO DE BANCO DE DADOS.\n",
        "\n",
        "Este notebook tem como objetivo criar um banco de dados a respeito dos resultados dos últimos campeonatos Nacionais de BAJA.\n",
        "\n",
        "Os dados encontram-se disponíveis na página da SAE Brasil em formato PDF, por isso, ao decorrer do Notebook será necessário fazer a rapagem de dados.\n"
      ]
    },
    {
      "cell_type": "markdown",
      "metadata": {
        "id": "huabakmHdyTA"
      },
      "source": [
        "Em primeiro lugar, precisamos instalar a biblioteca `tabula-py`, ela será responsável por ler o nosso PDF e retornar uma lista de dataframes, onde cada um dos dataframes contem uma tabela encontrada no arquivo.\n",
        "\n",
        "para fazer a instalação da biblioteca, utilizamos a seguinte linha de código.\n"
      ]
    },
    {
      "cell_type": "code",
      "metadata": {
        "id": "OHxMm9qz9y_5",
        "colab": {
          "base_uri": "https://localhost:8080/"
        },
        "outputId": "67ea9879-836c-4758-adac-53a4aa33d8ea"
      },
      "source": [
        "!pip3 install tabula-py"
      ],
      "execution_count": null,
      "outputs": [
        {
          "output_type": "stream",
          "name": "stdout",
          "text": [
            "Collecting tabula-py\n",
            "  Downloading tabula_py-2.3.0-py3-none-any.whl (12.0 MB)\n",
            "\u001b[K     |████████████████████████████████| 12.0 MB 91 kB/s \n",
            "\u001b[?25hRequirement already satisfied: numpy in /usr/local/lib/python3.7/dist-packages (from tabula-py) (1.19.5)\n",
            "Collecting distro\n",
            "  Downloading distro-1.6.0-py2.py3-none-any.whl (19 kB)\n",
            "Requirement already satisfied: pandas>=0.25.3 in /usr/local/lib/python3.7/dist-packages (from tabula-py) (1.1.5)\n",
            "Requirement already satisfied: pytz>=2017.2 in /usr/local/lib/python3.7/dist-packages (from pandas>=0.25.3->tabula-py) (2018.9)\n",
            "Requirement already satisfied: python-dateutil>=2.7.3 in /usr/local/lib/python3.7/dist-packages (from pandas>=0.25.3->tabula-py) (2.8.2)\n",
            "Requirement already satisfied: six>=1.5 in /usr/local/lib/python3.7/dist-packages (from python-dateutil>=2.7.3->pandas>=0.25.3->tabula-py) (1.15.0)\n",
            "Installing collected packages: distro, tabula-py\n",
            "Successfully installed distro-1.6.0 tabula-py-2.3.0\n"
          ]
        }
      ]
    },
    {
      "cell_type": "markdown",
      "metadata": {
        "id": "D17TbkjR95aL"
      },
      "source": [
        "Após instalar a biblioteca tabula-py, iremos importa-la junto com a biblioteca pandas.\n",
        "\n",
        "Obs: Não é necessário instalar a biblioteca pandas, pois o google colab já \n",
        "possui a biblioteca préviamente instalada."
      ]
    },
    {
      "cell_type": "code",
      "metadata": {
        "id": "PUqnlsHX4LvE"
      },
      "source": [
        "import tabula \n",
        "import pandas as pd"
      ],
      "execution_count": null,
      "outputs": []
    },
    {
      "cell_type": "markdown",
      "metadata": {
        "id": "x-9tUS9rteoe"
      },
      "source": [
        "Importada as bibliotecas, precisamos ler o arquivo PDF, para isso criamos a variável `file_path`, a ela iremos atribuir a URL do arquivo, obtida através do website da SAE Brasil.\n",
        "\n",
        "\n",
        "A função utilizada para leitura do arquivo PDF é a função `tabula.read_pdf()`\n",
        "\n",
        "\n",
        "Essa função recebe como arguento o arquivo PDF (`file_path`) e nos retorna uma `list`, onde cada item dessa lista é um `DataFrame` que representa uma tabela de nosso arquivo PDF. Como nosso arquivo possui apenas uma tabela, utilizaremos apenas o primeiro item (0) da `list` como `DataFrame` principal.\n",
        "\n",
        "\n"
      ]
    },
    {
      "cell_type": "code",
      "metadata": {
        "colab": {
          "base_uri": "https://localhost:8080/"
        },
        "id": "eQIwFkCW7hZ9",
        "outputId": "4745432a-6e38-437a-b98c-56dc05a1ffef"
      },
      "source": [
        "file_path = \"http://saebrasil.org.br/wp-content/uploads/2020/03/baja-nacional-2012.pdf\"\n",
        "\n",
        "tabela = tabula.read_pdf(file_path, output_format=\"dataframe\")\n",
        "df = tabela[0]\n"
      ],
      "execution_count": null,
      "outputs": [
        {
          "output_type": "stream",
          "name": "stderr",
          "text": [
            "'pages' argument isn't specified.Will extract only from page 1 by default.\n",
            "Got stderr: Oct 22, 2021 9:52:51 PM org.apache.pdfbox.pdmodel.font.FileSystemFontProvider loadDiskCache\n",
            "WARNING: New fonts found, font cache will be re-built\n",
            "Oct 22, 2021 9:52:51 PM org.apache.pdfbox.pdmodel.font.FileSystemFontProvider <init>\n",
            "WARNING: Building on-disk font cache, this may take a while\n",
            "Oct 22, 2021 9:52:51 PM org.apache.pdfbox.pdmodel.font.FileSystemFontProvider <init>\n",
            "WARNING: Finished building on-disk font cache, found 17 fonts\n",
            "Oct 22, 2021 9:52:51 PM org.apache.pdfbox.pdmodel.font.PDType1Font <init>\n",
            "WARNING: Using fallback font LiberationSans for base font Symbol\n",
            "Oct 22, 2021 9:52:51 PM org.apache.pdfbox.pdmodel.font.PDType1Font <init>\n",
            "WARNING: Using fallback font LiberationSans for base font ZapfDingbats\n",
            "\n"
          ]
        }
      ]
    },
    {
      "cell_type": "markdown",
      "metadata": {
        "id": "eoFqb6H1Gsji"
      },
      "source": [
        "Agora que temos o DataFrame com os dados da tabela, vamos criar um banco de dados não relacional. Optamos por criar um banco não relacional devido ao fato dos resultados sere diferentes a cada ano.\n",
        "\n",
        "Primeiro criamos um `Dict` chamado `database`, nele vamos adicionar os dados extraidos do nosso `DataFrame`.\n",
        "\n",
        "Após a criação do `Dict` que servirá de banco de dados, utilizaremos a função `DataFrame.iterrows()`, com ela será possível iterar linha por linha em nossa tabela de resultados. Ao ler as linhas, criaremos um outros `Dicts` chamado `equipe`, nele adicionaremos os dados de cada equipe individualmente, em seguida, adicionamos a coleção de equipes ao banco de dados."
      ]
    },
    {
      "cell_type": "code",
      "metadata": {
        "id": "L-az2VE66snn"
      },
      "source": [
        "database = {}\n",
        "\n",
        "for row in df.iterrows():\n",
        "  equipe = {\n",
        "      \"Resultados\" : {\n",
        "          \"Segurança\" : row[1][3],\n",
        "          \"Relatório\" : row[1][4],\n",
        "          \"Apresentação\" : row[1][5],\n",
        "          \"Aceleração\" : row[1][6],\n",
        "          \"Velocidade\" : row[1][7],\n",
        "          \"Tração\" : row[1][8],\n",
        "          \"S&T\" : row[1][9],\n",
        "          \"Enduro\" : row[1][10],\n",
        "          \"Pontuação\" : row[1][11],\n",
        "          \"Classificação\" : row[1][12]\n",
        "      }\n",
        "  }\n",
        "  database[row[1][1]] = equipe"
      ],
      "execution_count": null,
      "outputs": []
    },
    {
      "cell_type": "markdown",
      "metadata": {
        "id": "aR21qOMw7iNJ"
      },
      "source": [
        "Ao final, transnformaremos o dicionário `database` em um arquivo `JSON`, para isso, importaremos a biblioteca `JSON` e utilizaremos a função `json.dump()`.\n"
      ]
    },
    {
      "cell_type": "code",
      "metadata": {
        "id": "rKv_BCVu9ZYR"
      },
      "source": [
        "import json\n",
        "\n",
        "with open(\"BD_baja.json\", \"w\") as outfile:\n",
        "    json.dump(database, outfile)"
      ],
      "execution_count": null,
      "outputs": []
    },
    {
      "cell_type": "markdown",
      "metadata": {
        "id": "61NUNOn6-kvq"
      },
      "source": [
        "PRONTO!!!! Agora temos um banco de dados com os resultados do campeonato nacional de BAJA do ano de 2012. Por se tratar de arquivos com tipos de dados diferentes a cada ano, será necessário fazer a adaptação na manipulação dos resultados para cada campeonato, por esse motivo foi escolhido criar um banco de dados não relacional.\n"
      ]
    }
  ]
}